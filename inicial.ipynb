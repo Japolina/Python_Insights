{
 "cells": [
  {
   "cell_type": "markdown",
   "metadata": {},
   "source": [
    "# Python Insights - Analisando Dados com Python\n",
    "\n",
    "### Case - Cancelamento de Clientes\n",
    "\n",
    "Você foi contratado por uma empresa com mais de 800 mil clientes para um projeto de Dados. Recentemente a empresa percebeu que da sua base total de clientes, a maioria são clientes inativos, ou seja, que já cancelaram o serviço.\n",
    "\n",
    "Precisando melhorar seus resultados ela quer conseguir entender os principais motivos desses cancelamentos e quais as ações mais eficientes para reduzir esse número."
   ]
  },
  {
   "cell_type": "code",
   "execution_count": null,
   "metadata": {},
   "outputs": [],
   "source": [
    "# !pip install pandas openpyxl numpy ipykernel nbformat plotly\n",
    "\n",
    "### Passo a passo\n",
    "## Passo 1: Importar a base de dados\n",
    "import pandas as pd\n",
    "\n",
    "tabela = pd.read_csv('cancelamentos_sample.csv')\n",
    "\n",
    "## Passo 2: Visualizar a base de dados\n",
    "    # endenter o que tem na base de dados \n",
    "    # e encontrar erros na base de dados\n",
    "\n",
    "# colunas inuteis - informação que não ajudam e atrapalham\n",
    "# tirar coluna de CustomerID\n",
    "tabela = tabela.drop(columns='CustomerID')\n",
    "display(tabela)\n",
    "\n"
   ]
  },
  {
   "cell_type": "code",
   "execution_count": null,
   "metadata": {},
   "outputs": [],
   "source": [
    "## Passo 3: Tratamento de Dados - Corrigir os erros na base de dados\n",
    "# informações no formato errado\n",
    "display(tabela.info())\n",
    "\n",
    "# valores vazios - excluir as linhas com valores vazios\n",
    "tabela = tabela.dropna()\n",
    "    # tabela = tabela.fillna() - preencher\n",
    "display(tabela.info())\n"
   ]
  },
  {
   "cell_type": "code",
   "execution_count": null,
   "metadata": {},
   "outputs": [],
   "source": [
    "## Passo 4: Analise Inicial dos cancelamentos\n",
    "display(tabela['cancelou'].value_counts()) # contagem\n",
    "\n",
    "display(tabela['cancelou'].value_counts(normalize = True)) # percentual\n",
    "\n",
    "display(tabela['cancelou'].value_counts(normalize = True).map('{:.1%}'.format)) # percentual formatado"
   ]
  },
  {
   "cell_type": "code",
   "execution_count": null,
   "metadata": {},
   "outputs": [],
   "source": [
    "## Passo 5: Analise de causas do cancelamento dos clientes\n",
    "import plotly.express as px\n",
    "\n",
    "coluna = 'duracao_contrato'\n",
    "for coluna in tabela.columns:   \n",
    "    # criar grafico\n",
    "    grafico = px.histogram(tabela, x=coluna, color='cancelou')\n",
    "\n",
    "    # exibir o grafico\n",
    "    grafico.show()"
   ]
  },
  {
   "cell_type": "code",
   "execution_count": null,
   "metadata": {},
   "outputs": [],
   "source": [
    "# Todos os clientes que ligaram mais de 4x para o call center, cancelaram\n",
    "    # Criar um processo interno para resolver os problemas do cliente em no máximo 2 - 3 ligações\n",
    "# Todos os clientes que atrasaram mais de 20 dias o pagamento, cancelaram\n",
    "    # Criar um processo que quando atinge 10 dias de atraso no pagamento que seja um alerta\n",
    "# Todos os clientes de contrato mensal cancelaram\n",
    "    # oferecer um desconto no contrato anual/trimestral\n",
    "\n",
    "## Filtrar uma base de dados\n",
    "# se resolver o call center, para quanto cai o cancelamento?\n",
    "filtro = tabela['ligacoes_callcenter'] <= 4\n",
    "tabela = tabela[filtro]\n",
    "# e o atraso?\n",
    "\n",
    "filtro = tabela['dias_atraso'] <= 20\n",
    "tabela = tabela[filtro]\n",
    "# e o contrato mensal?\n",
    "filtro = tabela['duracao_contrato'] != 'Monthly'\n",
    "tabela = tabela[filtro]\n",
    "\n",
    "display(tabela['cancelou'].value_counts(normalize = True).map('{:.1%}'.format))\n"
   ]
  }
 ],
 "metadata": {
  "kernelspec": {
   "display_name": "base",
   "language": "python",
   "name": "python3"
  },
  "language_info": {
   "codemirror_mode": {
    "name": "ipython",
    "version": 3
   },
   "file_extension": ".py",
   "mimetype": "text/x-python",
   "name": "python",
   "nbconvert_exporter": "python",
   "pygments_lexer": "ipython3",
   "version": "3.12.4"
  },
  "orig_nbformat": 4
 },
 "nbformat": 4,
 "nbformat_minor": 2
}
